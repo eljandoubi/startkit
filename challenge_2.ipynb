{
 "cells": [
  {
   "cell_type": "markdown",
   "id": "e7d2bf29",
   "metadata": {},
   "source": [
    "<a target=\"_blank\" href=\"https://colab.research.google.com/github/eeg2025/startkit/blob/main/challenge_2.ipynb\"><img src=\"https://colab.research.google.com/assets/colab-badge.svg\" alt=\"Open In Colab\"/></a>"
   ]
  },
  {
   "cell_type": "markdown",
   "id": "19f653c6",
   "metadata": {},
   "source": [
    "# Challenge 2: Predicting the p-factor from EEG\n",
    "\n",
    "The psychopathology factor (P-factor) is a widely recognized construct in mental health research, representing a common underlying dimension of psychopathology across various disorders.\n",
    "Currently, the P-factor is often assessed using self-report questionnaires or clinician ratings, which can be subjective, prone to bias, and time-consuming.\n",
    "**The Challenge 2** consists of developing a model to predict the P-factor from EEG recordings.\n",
    "\n",
    "The challenge encourages learning physiologically meaningful signal representations and discovery of reproducible biomarkers.\n",
    "Models of any size should emphasize robust, interpretable features that generalize across subjects,\n",
    "sessions, and acquisition sites.\n",
    "\n",
    "Unlike a standard in-distribution classification task, this regression problem stresses out-of-distribution robustness\n",
    "and extrapolation. The goal is not only to minimize error on seen subjects, but also to transfer effectively to unseen data.\n",
    "\n",
    "Ensure the dataset is available locally. If not, see the [dataset download guide](https://eeg2025.github.io/data/#downloading-the-data)"
   ]
  },
  {
   "cell_type": "markdown",
   "id": "4f435bd6",
   "metadata": {},
   "source": [
    "## Contents of this start kit\n",
    "\n",
    "0. Understand the P-factor regression task.\n",
    "1. Loading the data.\n",
    "2. Wrap the data into a PyTorch-compatible dataset.\n",
    "3. Define, train and save a model.\n",
    "\n",
    "> **Note:** If you need additional explanations on the [`EEGChallengeDataset`](https://eeglab.org/EEGDash/api/eegdash.html#eegdash.EEGChallengeDataset) class, dataloading, [`braindecode`](https://braindecode.org/stable/models/models_table.html)'s deep learning models, or brain decoding in general, please refer to the start-kit of challenge 1 which delves deeper into these topics.\n",
    "\n",
    "More contents will be released during the competition inside the [`eegdash`](https://eeglab.org/EEGDash/overview.html) [examples webpage](https://eeglab.org/EEGDash/generated/auto_examples/index.html).\n",
    "\n",
    "We will establish direct communication channels with you over the next two months, resolve platform issues, and discuss other details.\n",
    "\n",
    "We are going to do weekly one-hour support time to help teams that may have difficulties with any technical aspects that may arise.\n",
    "\n",
    "We will have closer communication starting next week, 08/09/2025.\n",
    "\n",
    "Before we begin, I just want to make a deal with you, ok?\n",
    "\n",
    "This is a community competition with a strong open-source foundation. When I say open-source, I mean volunteer work.\n",
    "\n",
    "So, if you see something that does not work or could be improved, first, **please be kind**, and we will fix it together on GitHub, okay?\n",
    "\n",
    "The entire decoding community will only go further when we stop solving the same problems over and over again, and it starts working together."
   ]
  },
  {
   "cell_type": "markdown",
   "id": "6fe2969c",
   "metadata": {},
   "source": [
    "----\n",
    "| The tutorial assumes some prior knowledge of deep learning concepts and EEG concepts:|\n",
    "| --- |\n",
    "|* Standard neural network architectures, e.g., convolutional neural networks|\n",
    "|* Optimization by batch gradient descent and backpropagation|\n",
    "|* Overfitting, early stopping, regularisation |\n",
    "|* Some knowledge of pytorch and, optionally, of the pytorch Lightning framework|\n",
    "|* That you know what EEG is |\n",
    "|* That you have basic familiarity with EEG preprocessing |\n",
    "|* Like and support open-source :) |\n",
    "----"
   ]
  },
  {
   "cell_type": "code",
   "execution_count": null,
   "id": "56115ca9",
   "metadata": {
    "tags": [
     "hide-input"
    ],
    "title": "Install dependencies on colab [code]"
   },
   "outputs": [],
   "source": [
    "!pip install braindecode\n",
    "!pip install eegdash"
   ]
  },
  {
   "cell_type": "code",
   "execution_count": null,
   "id": "12db3006",
   "metadata": {
    "tags": [
     "hide-input"
    ],
    "title": "Imports [code]"
   },
   "outputs": [],
   "source": [
    "from pathlib import Path\n",
    "import math\n",
    "import os\n",
    "import random\n",
    "from joblib import Parallel, delayed\n",
    "\n",
    "import torch\n",
    "from torch.utils.data import DataLoader\n",
    "from torch import optim\n",
    "from torch.nn.functional import l1_loss\n",
    "from braindecode.preprocessing import create_fixed_length_windows\n",
    "from braindecode.datasets.base import EEGWindowsDataset, BaseConcatDataset, BaseDataset\n",
    "from braindecode.models import EEGNeX\n",
    "from eegdash import EEGChallengeDataset"
   ]
  },
  {
   "cell_type": "markdown",
   "id": "b20a981f",
   "metadata": {
    "lines_to_next_cell": 2
   },
   "source": [
    "⚠️ **In case of colab, before starting, make sure you're on a GPU instance for faster training!** ⚠️\n",
    "\n",
    "> If running on Google Colab, please request a GPU runtime by clicking `Runtime/Change runtime type` in the top bar menu, then selecting 'T4 GPU' under 'Hardware accelerator'."
   ]
  },
  {
   "cell_type": "code",
   "execution_count": null,
   "id": "fb8cbe79",
   "metadata": {
    "tags": [
     "hide-input"
    ],
    "title": "Identify whether a CUDA-enabled GPU is available [code]"
   },
   "outputs": [],
   "source": [
    "device = \"cuda\" if torch.cuda.is_available() else \"cpu\"\n",
    "if device == \"cuda\":\n",
    "    msg = \"CUDA-enabled GPU found. Training should be faster.\"\n",
    "else:\n",
    "    msg = (\n",
    "        \"No GPU found. Training will be carried out on CPU, which might be \"\n",
    "        \"slower.\\n\\nIf running on Google Colab, you can request a GPU runtime by\"\n",
    "        \" clicking\\n`Runtime/Change runtime type` in the top bar menu, then \"\n",
    "        \"selecting 'T4 GPU'\\nunder 'Hardware accelerator'.\"\n",
    "    )\n",
    "print(msg)"
   ]
  },
  {
   "cell_type": "markdown",
   "id": "60aabc16",
   "metadata": {},
   "source": [
    "## 0. Understanding the P-factor regression task.\n",
    "\n",
    "The psychopathology factor (P-factor) is a widely recognized construct in mental health research, representing a common underlying dimension of psychopathology across various disorders.\n",
    "The P-factor is thought to reflect the shared variance among different psychiatric conditions, suggesting that individuals with higher P-factor scores may be more vulnerable to a range of mental health issues.\n",
    "Currently, the P-factor is often assessed using self-report questionnaires or clinician ratings, which can be subjective, prone to bias, and time-consuming.\n",
    "In the dataset of this challenge, the P-factor was assessed using the Child Behavior Checklist (CBCL) [McElroy et al., (2017)](https://doi.org/10.1111/jcpp.12849).\n",
    "\n",
    "The goal of Challenge 2 is to develop a model to predict the P-factor from EEG recordings.\n",
    "**The feasibility of using EEG data for this purpose is still an open question**.\n",
    "The solution may involve finding meaningful representations of the EEG data that correlate with the P-factor scores.\n",
    "The challenge encourages learning physiologically meaningful signal representations and discovery of reproducible biomarkers.\n",
    "If contestants are successful in this task, it could pave the way for more objective and efficient assessments of the P-factor in clinical settings."
   ]
  },
  {
   "cell_type": "markdown",
   "id": "ef9e3006",
   "metadata": {},
   "source": [
    "## 1. Loading the data\n",
    "\n",
    "### A. Define local path and (down)load the data\n",
    "\n",
    "In this challenge 2 example, we load the EEG 2025 release using EEG Dash.\n",
    "\n",
    "> **Note:** in this example notebook, we load the contrast change detection task from one mini release only as example. Naturally, you are encouraged to train your models on all complete releases, using data from all the tasks you deem relevant."
   ]
  },
  {
   "cell_type": "code",
   "execution_count": null,
   "id": "1a782c56",
   "metadata": {},
   "outputs": [],
   "source": [
    "# The first step is define the cache folder!\n",
    "DATA_DIR = Path(\"data\")\n",
    "\n",
    "# Creating the path if it does not exist\n",
    "DATA_DIR.mkdir(parents=True, exist_ok=True)\n",
    "\n",
    "# We define the list of releases to load.\n",
    "# Here, only release 5 is loaded.\n",
    "release_list = [\"R5\"]\n",
    "\n",
    "all_datasets_list = [\n",
    "    EEGChallengeDataset(\n",
    "        release=release,\n",
    "        task=\"contrastChangeDetection\",\n",
    "        mini=True,\n",
    "        description_fields=[\n",
    "            \"subject\",\n",
    "            \"session\",\n",
    "            \"run\",\n",
    "            \"task\",\n",
    "            \"age\",\n",
    "            \"gender\",\n",
    "            \"sex\",\n",
    "            \"p_factor\",\n",
    "        ],\n",
    "        cache_dir=DATA_DIR,\n",
    "    )\n",
    "    for release in release_list\n",
    "]\n",
    "print(\"Datasets loaded\")\n",
    "sub_rm = [\"NDARWV769JM7\"]"
   ]
  },
  {
   "cell_type": "markdown",
   "id": "8eaf96d8",
   "metadata": {},
   "source": [
    "### B. Combine the datasets into single one\n",
    "\n",
    "Here, we combine the datasets from the different releases into a single\n",
    "``BaseConcatDataset`` object."
   ]
  },
  {
   "cell_type": "code",
   "execution_count": null,
   "id": "d1770f40",
   "metadata": {},
   "outputs": [],
   "source": [
    "all_datasets = BaseConcatDataset(all_datasets_list)\n",
    "print(all_datasets.description)\n",
    "\n",
    "raws = Parallel(n_jobs=os.cpu_count())(\n",
    "    delayed(lambda d: d.raw)(d) for d in all_datasets.datasets\n",
    ")"
   ]
  },
  {
   "cell_type": "markdown",
   "id": "4a65296e",
   "metadata": {},
   "source": [
    "### C. Inspect your data\n",
    "\n",
    "We can check what is inside the dataset consuming the\n",
    "MNE-object inside the Braindecode dataset.\n",
    "\n",
    "The following snippet, if uncommented, will show the first 10 seconds of the raw EEG signal.\n",
    "We can also inspect the data further by looking at the events and annotations.\n",
    "We strongly recommend you to take a look into the details and check how the events are structured."
   ]
  },
  {
   "cell_type": "code",
   "execution_count": null,
   "id": "9e482229",
   "metadata": {},
   "outputs": [],
   "source": [
    "# raw = all_datasets.datasets[0].raw  # mne.io.Raw object\n",
    "# print(raw.info)\n",
    "\n",
    "# raw.plot(duration=10, scalings=\"auto\", show=True)\n",
    "\n",
    "# print(raw.annotations)\n",
    "\n",
    "SFREQ = 100"
   ]
  },
  {
   "cell_type": "markdown",
   "id": "a5b7da49",
   "metadata": {
    "lines_to_next_cell": 2
   },
   "source": [
    "## 2. Wrap the data into a PyTorch-compatible dataset\n",
    "\n",
    "The class below defines a dataset wrapper that will extract 2-second windows,\n",
    "uniformly sampled over the whole signal. In addition, it will add useful information\n",
    "about the extracted windows, such as the p-factor, the subject or the task."
   ]
  },
  {
   "cell_type": "code",
   "execution_count": null,
   "id": "a0598e60",
   "metadata": {},
   "outputs": [],
   "source": [
    "class DatasetWrapper(BaseDataset):\n",
    "    def __init__(self, dataset: EEGWindowsDataset, crop_size_samples: int, seed=None):\n",
    "        self.dataset = dataset\n",
    "        self.crop_size_samples = crop_size_samples\n",
    "        self.rng = random.Random(seed)\n",
    "\n",
    "    def __len__(self):\n",
    "        return len(self.dataset)\n",
    "\n",
    "    def __getitem__(self, index):\n",
    "        X, _, crop_inds = self.dataset[index]\n",
    "\n",
    "        # P-factor label:\n",
    "        p_factor = self.dataset.description[\"p_factor\"]\n",
    "        p_factor = float(p_factor)\n",
    "\n",
    "        # Additional information:\n",
    "        infos = {\n",
    "            \"subject\": self.dataset.description[\"subject\"],\n",
    "            \"sex\": self.dataset.description[\"sex\"],\n",
    "            \"age\": float(self.dataset.description[\"age\"]),\n",
    "            \"task\": self.dataset.description[\"task\"],\n",
    "            \"session\": self.dataset.description.get(\"session\", None) or \"\",\n",
    "            \"run\": self.dataset.description.get(\"run\", None) or \"\",\n",
    "        }\n",
    "\n",
    "        # Randomly crop the signal to the desired length:\n",
    "        i_window_in_trial, i_start, i_stop = crop_inds\n",
    "        assert i_stop - i_start >= self.crop_size_samples, f\"{i_stop=} {i_start=}\"\n",
    "        start_offset = self.rng.randint(0, i_stop - i_start - self.crop_size_samples)\n",
    "        i_start = i_start + start_offset\n",
    "        i_stop = i_start + self.crop_size_samples\n",
    "        X = X[:, start_offset : start_offset + self.crop_size_samples]\n",
    "\n",
    "        return X, p_factor, (i_window_in_trial, i_start, i_stop), infos"
   ]
  },
  {
   "cell_type": "markdown",
   "id": "929b853c",
   "metadata": {},
   "source": [
    "We filter out certain recordings, create fixed length windows and finally make use of our `DatasetWrapper`."
   ]
  },
  {
   "cell_type": "code",
   "execution_count": null,
   "id": "1427b79b",
   "metadata": {
    "lines_to_next_cell": 2
   },
   "outputs": [],
   "source": [
    "# Filter out recordings that are too short\n",
    "all_datasets = BaseConcatDataset(\n",
    "    [\n",
    "        ds\n",
    "        for ds in all_datasets.datasets\n",
    "        if not ds.description.subject in sub_rm\n",
    "        and ds.raw.n_times >= 4 * SFREQ\n",
    "        and len(ds.raw.ch_names) == 129\n",
    "        and not math.isnan(ds.description[\"p_factor\"])\n",
    "    ]\n",
    ")\n",
    "\n",
    "# Create 4-seconds windows with 2-seconds stride\n",
    "windows_ds = create_fixed_length_windows(\n",
    "    all_datasets,\n",
    "    window_size_samples=4 * SFREQ,\n",
    "    window_stride_samples=2 * SFREQ,\n",
    "    drop_last_window=True,\n",
    ")\n",
    "\n",
    "# Wrap each sub-dataset in the windows_ds\n",
    "windows_ds = BaseConcatDataset(\n",
    "    [DatasetWrapper(ds, crop_size_samples=2 * SFREQ) for ds in windows_ds.datasets]\n",
    ")"
   ]
  },
  {
   "cell_type": "markdown",
   "id": "f3e69683",
   "metadata": {},
   "source": [
    "## 3. Define, train and save a model\n",
    "\n",
    "Now we have our pytorch dataset necessary for the training!\n",
    "\n",
    "Below, we define a simple EEGNeX model from Braindecode.\n",
    "All the braindecode models expect the input to be of shape (batch_size, n_channels, n_times)\n",
    "and have a test coverage about the behavior of the model.\n",
    "\n",
    "However, **you can use any pytorch model you want**."
   ]
  },
  {
   "cell_type": "code",
   "execution_count": null,
   "id": "1d552989",
   "metadata": {
    "lines_to_next_cell": 2
   },
   "outputs": [],
   "source": [
    "# Initialize model\n",
    "model = EEGNeX(n_chans=129, n_outputs=1, n_times=2 * SFREQ).to(device)\n",
    "\n",
    "# Specify optimizer\n",
    "optimizer = optim.Adamax(params=model.parameters(), lr=0.002)\n",
    "\n",
    "print(model)"
   ]
  },
  {
   "cell_type": "markdown",
   "id": "f8d48389",
   "metadata": {},
   "source": [
    "Finally, we can train our model. Here we define a simple training loop using pure PyTorch.\n",
    "\n",
    "> In this example, we only train for a single epoch. Feel free to increase the number of epochs."
   ]
  },
  {
   "cell_type": "code",
   "execution_count": null,
   "id": "38eec249",
   "metadata": {
    "title": "[code]"
   },
   "outputs": [],
   "source": [
    "# Create PyTorch Dataloader\n",
    "num_workers = 1 # We are using a single worker, but you can increase this for faster data loading\n",
    "\n",
    "dataloader = DataLoader(windows_ds, batch_size=128, shuffle=True, num_workers=num_workers)\n",
    "\n",
    "n_epochs = 1\n",
    "\n",
    "# Train model for 1 epoch\n",
    "for epoch in range(n_epochs):\n",
    "\n",
    "    for idx, batch in enumerate(dataloader):\n",
    "        # Reset gradients\n",
    "        optimizer.zero_grad()\n",
    "\n",
    "        # Unpack the batch\n",
    "        X, y, crop_inds, infos = batch\n",
    "        X = X.to(dtype=torch.float32, device=device)\n",
    "        y = y.to(dtype=torch.float32, device=device).unsqueeze(1)\n",
    "\n",
    "        # Forward pass\n",
    "        y_pred = model(X)\n",
    "\n",
    "        # Compute loss\n",
    "        loss = l1_loss(y_pred, y)\n",
    "        print(f\"Epoch {0} - step {idx}, loss: {loss.item()}\")\n",
    "\n",
    "        # Gradient backpropagation\n",
    "        loss.backward()\n",
    "        optimizer.step()\n",
    "\n",
    "# Finally, we can save the model for later use\n",
    "torch.save(model.state_dict(), \"model_weights_challenge_2.pt\")"
   ]
  }
 ],
 "metadata": {
  "jupytext": {
   "cell_metadata_filter": "tags,title,-all",
   "main_language": "python",
   "notebook_metadata_filter": "-all"
  },
  "language_info": {
   "name": "python"
  }
 },
 "nbformat": 4,
 "nbformat_minor": 5
}
